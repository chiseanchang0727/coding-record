{
 "cells": [
  {
   "cell_type": "code",
   "execution_count": 1,
   "id": "7a1dbba1",
   "metadata": {},
   "outputs": [],
   "source": [
    "import warnings\n",
    "warnings.simplefilter(action='ignore', category=FutureWarning)"
   ]
  },
  {
   "cell_type": "code",
   "execution_count": 2,
   "id": "6e922fcd",
   "metadata": {},
   "outputs": [],
   "source": [
    "import pandas as pd\n",
    "import datetime\n",
    "from datetime import datetime\n",
    "from datetime import timedelta\n",
    "from datetime import date\n",
    "import numpy as np\n",
    "import glob\n",
    "import xz.open\n",
    "from decimal import Decimal"
   ]
  },
  {
   "cell_type": "code",
   "execution_count": 3,
   "id": "097e0f0e",
   "metadata": {},
   "outputs": [],
   "source": [
    "#main role list\n",
    "mainrole = pd.read_csv('../output/recommend_maintable.csv')\n",
    "#mainrole"
   ]
  },
  {
   "cell_type": "code",
   "execution_count": 4,
   "id": "8abd34ef",
   "metadata": {},
   "outputs": [],
   "source": [
    "start_time = \"2022-04-19\"\n",
    "end_time = date.today()\n",
    "\n",
    "logname = 'rolelogin'\n",
    "\n",
    "rolelogin_raw = pd.DataFrame()\n",
    "for i in pd.period_range(start_time, end_time):\n",
    "    data_path = glob.glob('/home/xl_daily_update/raw_data/serverlog/G1JP/' + '/*/' + logname + '.log.' + str(i) + '*', recursive = True)\n",
    "    \n",
    "    for j in data_path:\n",
    "        with xz.open(j, 'rt', encoding = 'utf-8') as f:\n",
    "            df = pd.read_csv(f, header = None, sep = '\\x01', usecols = [1,9,11], names = [\"datetime\", \"userid\", \"roleid\"])\n",
    "            rolelogin_raw = pd.concat([rolelogin_raw,df])\n",
    "        "
   ]
  },
  {
   "cell_type": "code",
   "execution_count": 5,
   "id": "4ff3c38d",
   "metadata": {},
   "outputs": [],
   "source": [
    "rolelogin_raw = rolelogin_raw[(rolelogin_raw['userid'].isin(mainrole.userid)) & rolelogin_raw['roleid'].isin(mainrole.roleid)]\n",
    "# rolelogin_raw.shape"
   ]
  },
  {
   "cell_type": "code",
   "execution_count": 6,
   "id": "86de6397",
   "metadata": {},
   "outputs": [],
   "source": [
    "#rolelogin_raw = pd.read_csv(\"/home/chiseanchang66/R/G1/G1JP/recommand_sys/output/g1jp_rolelogin.csv\")\n",
    "#change the type of date from object to datetime64\n",
    "rolelogin_raw['date'] = pd.to_datetime(rolelogin_raw['datetime']).dt.date\n",
    "# rolelogin_raw.dtypes"
   ]
  },
  {
   "cell_type": "code",
   "execution_count": 7,
   "id": "a95aba06",
   "metadata": {},
   "outputs": [],
   "source": [
    "#add column : create date of each userid, named creation_userid\n",
    "rolelogin_raw['creation_userid'] = pd.to_datetime(rolelogin_raw.groupby('userid')['date'].transform('min'))\n",
    "rolelogin_raw['days_from_creation'] = (pd.to_datetime(date.today()) - rolelogin_raw['creation_userid']).dt.days\n",
    "#rolelogin_raw['days_from_creation'] = (pd.to_datetime(date.today()-timedelta(days = 7)) - rolelogin_raw['creation_userid']).dt.days\n",
    "#rolelogin_raw.head()"
   ]
  },
  {
   "cell_type": "code",
   "execution_count": 8,
   "id": "206ac6d6",
   "metadata": {
    "scrolled": true
   },
   "outputs": [],
   "source": [
    "#login days within 7,15,30 days\n",
    "days_set = [7,15,30]\n",
    "\n",
    "#extract the userid and transform to dataframe, then return the unique value of userid\n",
    "login_filter = pd.DataFrame(rolelogin_raw[['userid','roleid','days_from_creation']]).drop_duplicates()\n",
    "login_days_final = pd.DataFrame(rolelogin_raw[['userid','roleid']]).drop_duplicates()\n",
    "for i in days_set:\n",
    "    start_date = pd.to_datetime(date.today() - timedelta(days = i))\n",
    "    #start_date = pd.to_datetime(date.today() - timedelta(days = i+45))\n",
    "    end_date = pd.to_datetime(date.today() - timedelta(days = 1))\n",
    "    #end_date = pd.to_datetime(date.today() - timedelta(days = 8))\n",
    "    #date_range = pd.date_range(start_date,end_date)\n",
    "    \n",
    "    temp_1 = rolelogin_raw.loc[rolelogin_raw['date'].between(start_date, end_date, inclusive=True)]\n",
    "    \n",
    "    temp_2 = pd.DataFrame(temp_1.groupby(['userid','roleid'])['date'].nunique())\n",
    "      \n",
    "    login_days = pd.merge(login_filter, temp_2, how = 'outer', left_on = ['userid','roleid'], right_on = ['userid','roleid'])\n",
    "    \n",
    "    #temp_2.columns = ['login_days'+ '_in_' + str(i) + '_days']              \n",
    "      \n",
    "    login_days['days_max'] = np.where(login_days['days_from_creation'] > i, i, login_days['days_from_creation'])\n",
    "    \n",
    "    login_days['login_days_in_' + str(i) + '_days'] = round(login_days['date']/login_days['days_max'],2)\n",
    "    \n",
    "    \n",
    "    login_days_final = pd.merge(login_days_final, login_days[['userid','roleid','login_days_in_' + str(i) + '_days']], how = \"inner\", left_on = ['userid','roleid'], right_on = ['userid','roleid'])\n",
    "    \n",
    "login_days_final = login_days_final.replace(np.nan , 0)\n",
    "login_days_final = login_days_final[login_days_final['login_days_in_30_days'] > 0]\n",
    "#print(login_days_final)\n",
    "login_days_final.to_csv(\"../output/g1jp_user_login_days_inframe.csv\", sep = ',', index = False)\n"
   ]
  },
  {
   "cell_type": "code",
   "execution_count": 9,
   "id": "1c9827aa",
   "metadata": {},
   "outputs": [],
   "source": [
    "#近30天內有登入玩家累積登入天數\n",
    "user_rolelogin_record = pd.DataFrame(rolelogin_raw.groupby(['userid','roleid'])['date'].nunique()).reset_index()\n",
    "\n",
    "\n",
    "user_rolelogin_record = user_rolelogin_record.rename(columns = { 'date' : 'agg_login_days'})\n",
    "user_rolelogin_record =(user_rolelogin_record[user_rolelogin_record['userid'].isin(login_days_final['userid'])]).set_index('userid','roleid')\n",
    "#print(user_rolelogin_record)\n",
    "user_rolelogin_record.to_csv(\"../output/g1jp_user_agg_login_days.csv\")"
   ]
  },
  {
   "cell_type": "code",
   "execution_count": 10,
   "id": "dc33264e",
   "metadata": {},
   "outputs": [],
   "source": [
    "#login days in 7/15/30 days\n",
    "#in_timeframe = pd.to_datetime(pd.date_range(date.today() - timedelta(days = 7), date.today()))\n",
    "#rolelogin_raw[rolelogin_raw['date'].isin(in_timeframe)]"
   ]
  },
  {
   "cell_type": "code",
   "execution_count": 11,
   "id": "b888868a",
   "metadata": {},
   "outputs": [],
   "source": [
    "#select the columan 'userid','date' of specific userid from rolelogin_raw then deduplicate\n",
    "# AAA = (rolelogin_raw.loc[rolelogin_raw['userid'] == 13726108])[['userid','date']].drop_duplicates()\n",
    "\n",
    "# start_date = pd.to_datetime(date.today() - timedelta(days = 180))\n",
    "# end_date = pd.to_datetime(date.today())\n",
    "    \n",
    "# AAA.loc[AAA['date'].between(start_date, end_date, inclusive=True)]\n",
    "\n"
   ]
  },
  {
   "cell_type": "code",
   "execution_count": 12,
   "id": "0c3c4b69",
   "metadata": {
    "scrolled": true
   },
   "outputs": [],
   "source": [
    "#check the data with random userid\n",
    "# rows = np.random.choice(login_days_final.index.values, 20)\n",
    "# sampled_df = login_days_final.loc[rows]\n",
    "#sampled_df\n",
    "#print (sampled_df)\n",
    "#userid = 13333645"
   ]
  },
  {
   "cell_type": "code",
   "execution_count": 13,
   "id": "be10cff3",
   "metadata": {},
   "outputs": [],
   "source": [
    "#consecutive login days with 7,15,30 days\n",
    "days_set = [7,15,30]\n",
    "\n",
    "#select the column we need\n",
    "consecu_login = rolelogin_raw[['userid','roleid','date']].drop_duplicates().reset_index(drop=True)\n",
    "\n",
    "#order the data by date\n",
    "sorted_consecu_login = consecu_login.groupby(['userid','roleid']).apply(lambda x : x.sort_values(by = ['date'], ascending = True))\n",
    "\n",
    "#add column with previous date by group\n",
    "sorted_consecu_login['last_login'] = sorted_consecu_login.groupby(['userid','roleid'])['date'].shift()\n",
    "\n",
    "#drop na with .dropna()\n",
    "sorted_consecu_login = sorted_consecu_login.dropna()\n",
    "\n",
    "#add a column of the difference between date and last_login, and access the .days attribute by dt.days\n",
    "sorted_consecu_login['diff_login'] = (sorted_consecu_login['date'] - sorted_consecu_login['last_login']).dt.days"
   ]
  },
  {
   "cell_type": "code",
   "execution_count": 14,
   "id": "e028fd6c",
   "metadata": {},
   "outputs": [],
   "source": [
    "#sorted_consecu_login.loc[(sorted_consecu_login['userid'] == 3922331) & (sorted_consecu_login['diff_login'] == 1)]\n",
    "\n",
    "\n",
    "consecu_login_result = pd.DataFrame(rolelogin_raw[['userid','roleid']]).drop_duplicates()\n",
    "for i in days_set:\n",
    "    start_date = pd.to_datetime(date.today() - timedelta(days = i))\n",
    "    #start_date = pd.to_datetime(date.today() - timedelta(days = i+45))\n",
    "    end_date = pd.to_datetime(date.today() - timedelta(days = 1))\n",
    "    #end_date = pd.to_datetime(date.today() - timedelta(days = 8))\n",
    "    \n",
    "    con_temp_1 = sorted_consecu_login.loc[sorted_consecu_login['date'].between(start_date, end_date, inclusive=True)]\n",
    "    \n",
    "    con_temp_2 = pd.DataFrame(con_temp_1.loc[con_temp_1['diff_login'] == 1].groupby(['userid','roleid'])['date'].nunique())\n",
    "    \n",
    "    con_temp_2.columns = ['consecutive_login_days' + '_in_' + str(i) + '_days']\n",
    "    \n",
    "       \n",
    "    consecu_login_result = pd.merge(consecu_login_result,  con_temp_2, how = 'outer', left_on = ['userid','roleid'], right_on = ['userid','roleid'])\n",
    "    \n",
    "consecu_login_result = consecu_login_result.fillna(0)\n",
    "consecu_login_result = consecu_login_result[consecu_login_result['userid'].isin(login_days_final['userid'])]\n",
    "#print(consecu_login_result)\n",
    "\n",
    "consecu_login_result.to_csv(\"../output/g1jp_user_consecutive_login_days.csv\", sep = ',', index = False)"
   ]
  },
  {
   "cell_type": "code",
   "execution_count": 15,
   "id": "586ffd6c",
   "metadata": {},
   "outputs": [
    {
     "name": "stderr",
     "output_type": "stream",
     "text": [
      "/tmp/ipykernel_23180/3700482672.py:2: DtypeWarning: Columns (4,9,13) have mixed types. Specify dtype option on import or set low_memory=False.\n",
      "  xga_orders = pd.read_csv(\"/home/xl_daily_update/raw_data/cpf/xga_orders.csv\")\n"
     ]
    }
   ],
   "source": [
    "#read the order data\n",
    "xga_orders = pd.read_csv(\"/home/xl_daily_update/raw_data/cpf/xga_orders.csv\")\n",
    "\n",
    "g1jp_orders = (xga_orders.loc[xga_orders['app_id'] == 1003])[['gid','price','regdate']]\n",
    "\n",
    "g1jp_orders['date'] = pd.to_datetime(g1jp_orders['regdate']).dt.date\n",
    "\n",
    "g1jp_orders = g1jp_orders.rename(columns={'gid':'userid'})\n",
    "\n",
    "#g1jp_orders.head()"
   ]
  },
  {
   "cell_type": "code",
   "execution_count": 16,
   "id": "0c3c9196",
   "metadata": {},
   "outputs": [],
   "source": [
    "#cumulative payment\n",
    "cumulative_payment = pd.DataFrame(g1jp_orders.groupby('userid')['price'].sum())\n",
    "cumulative_payment.columns = ['cumulative_payment']\n",
    "cumulative_payment = cumulative_payment.reset_index()\n",
    "cumulative_payment.to_csv(\"../output/g1jp_user_cumulative_payment.csv\", sep = ',', index = False)\n"
   ]
  },
  {
   "cell_type": "code",
   "execution_count": 17,
   "id": "93773c3d",
   "metadata": {},
   "outputs": [],
   "source": [
    "#cumulative payment within 7,15,30 days\n",
    "days_set = [7,15,30]\n",
    "\n",
    "cumulative_payment_inframe = pd.DataFrame(rolelogin_raw['userid']).drop_duplicates()\n",
    "for i in days_set:\n",
    "    start_date = pd.to_datetime(date.today() - timedelta(days = i))\n",
    "    #start_date = pd.to_datetime(date.today() - timedelta(days = i+45))\n",
    "    end_date = pd.to_datetime(date.today() - timedelta(days = 1))\n",
    "    #end_date = pd.to_datetime(date.today() - timedelta(days = 8))\n",
    "    \n",
    "    cu_pay_1 = g1jp_orders.loc[g1jp_orders['date'].between(start_date, end_date, inclusive = True)]\n",
    "    \n",
    "    cu_pay_2 = pd.DataFrame(cu_pay_1.groupby('userid')['price'].sum())\n",
    "    \n",
    "    cu_pay_2.columns = ['cumulative_payment_in_' + str(i) + '_days' ]\n",
    "    \n",
    "    cumulative_payment_inframe = pd.merge(cumulative_payment_inframe, cu_pay_2, how = \"outer\", on = ['userid','userid'])\n",
    "    \n",
    "cumulative_payment_inframe_result = cumulative_payment_inframe.fillna(0)\n",
    "#print(cumulative_payment_inframe_result)\n",
    "cumulative_payment_inframe_result.to_csv(\"../output/g1jp_user_cumulative_payment_inframe.csv\", sep = ',', index = False)\n",
    "    "
   ]
  },
  {
   "cell_type": "code",
   "execution_count": 18,
   "id": "c14f4cf1",
   "metadata": {},
   "outputs": [],
   "source": [
    "# start_date = pd.to_datetime(date.today() - timedelta(days = 7))\n",
    "# end_date = pd.to_datetime(date.today() - timedelta(days = 1))\n",
    "# date_range = pd.period_range(start_date, end_date)\n",
    "# #date_range"
   ]
  },
  {
   "cell_type": "code",
   "execution_count": 19,
   "id": "4926ea0a",
   "metadata": {
    "scrolled": true
   },
   "outputs": [],
   "source": [
    "#the number of payment in 7,15,30 days\n",
    "days_set = [7,15,30]\n",
    "\n",
    "\n",
    "payment_frequency = pd.DataFrame(rolelogin_raw['userid']).drop_duplicates()\n",
    "for i in days_set:\n",
    "    start_date = pd.to_datetime(date.today() - timedelta(days = i))\n",
    "    #start_date = pd.to_datetime(date.today() - timedelta(days = i+45))\n",
    "    end_date = pd.to_datetime(date.today() - timedelta(days = 1))\n",
    "    #end_date = pd.to_datetime(date.today() - timedelta(days = 8))\n",
    "\n",
    "    selected_payment = g1jp_orders[g1jp_orders['date'].between(start_date, end_date, inclusive=True)]\n",
    "\n",
    "    #overall payment times in selected time frame\n",
    "    payment_count = pd.DataFrame(selected_payment.groupby('userid').size())\n",
    "    \n",
    "    #rename\n",
    "    payment_count.columns = ['payment_count_in_' + str(i) + '_days']\n",
    "\n",
    "    #we are going to count the payment frequency by date\n",
    "    payment_frequency_temp = pd.DataFrame(round(i/payment_count))\n",
    "    \n",
    "    payment_frequency_temp.columns = ['payment_frequency_in_' + str(i) + '_days']\n",
    "    \n",
    "    \n",
    "    count_frequency =   pd.merge(payment_frequency, payment_count, how = \"outer\", on = ['userid','userid'])\n",
    "    \n",
    "    payment_frequency = pd.merge(count_frequency, payment_frequency_temp, how = \"outer\", on = ['userid', 'userid'])\n",
    "    \n",
    "payment_frequency = payment_frequency.fillna(0)\n",
    "#print(payment_frequency)\n",
    "\n",
    "payment_frequency.to_csv(\"../output/g1jp_user_payment_frequency.csv\", sep = ',', index = False)\n",
    "    "
   ]
  },
  {
   "cell_type": "code",
   "execution_count": 20,
   "id": "e0738433",
   "metadata": {},
   "outputs": [],
   "source": [
    "start_time = \"2022-04-19\"\n",
    "end_time = date.today()\n",
    "\n",
    "logname = 'shoptrade'\n",
    "\n",
    "shoptrade_id_list = [60134,60136,60137,60138,60147,60146,60163,60139,60154,60149,60172,60161,60203,60201,60176,60177,60191,60235,60237,60252,60253,60265,60266,60270,60251,60272,60286,60296,10029,64063,64059,60121,60123,60122,10026,10030,10026,10027,10028,41006,41008,41055,10033,10034,10048,10019,10020,10442,1,32,34,60118,60119,60120,60121,60140,60141,64101,60456,60148,64063,59998,59999,60000,60111,60112,60113,60114,60115]\n",
    "\n",
    "gacha_id_list = [62001,62005,62003,62004]\n",
    "\n",
    "card_fortune_store_id_list = [210,810,1300,1400,4050,4160,4170,4200,4210,4220,4230,4800,4810]\n",
    "\n",
    "male_outfit_fortune_store_id_list = [51002,51014,51050,51032,51026]\n",
    "\n",
    "female_outfit_fortune_store_id_list = [51003,51015,51051,51033,51027]\n",
    "\n",
    "shoptrade_id = pd.DataFrame()\n",
    "gacha_id = pd.DataFrame()\n",
    "card_fortune_store_id = pd.DataFrame()\n",
    "male_outfit_fortune_store_id = pd.DataFrame()\n",
    "female_outfit_fortune_store_id = pd.DataFrame()\n",
    "\n",
    "\n",
    "for i in pd.period_range(start_time, end_time):\n",
    "    data_path = glob.glob('/home/xl_daily_update/raw_data/serverlog/G1JP/' + '/*/' + logname + '.log.' + str(i) + '*', recursive = True)\n",
    "    \n",
    "    for j in data_path:\n",
    "        with xz.open(j, 'rt', encoding = 'utf-8') as f:\n",
    "            \n",
    "            df_shoptrade = pd.read_csv(f, header = None, sep = '\\x01', usecols = [1,9,10,13], names = [\"datetime\", \"userid\", \"roleid\",'shoptrade_id'])\n",
    "            df_shoptrade = df_shoptrade[(df_shoptrade['userid'].isin(mainrole.userid)) & (df_shoptrade['roleid'].isin(mainrole.roleid))]\n",
    "            \n",
    "            df_shoptrade_item = df_shoptrade[df_shoptrade['shoptrade_id'].isin(shoptrade_id_list)]\n",
    "            shoptrade_id = pd.concat([shoptrade_id,df_shoptrade_item])\n",
    "            \n",
    "            \n",
    "            df_gacha = df_shoptrade[df_shoptrade['shoptrade_id'].isin(gacha_id_list)]\n",
    "            gacha_id = pd.concat([gacha_id,df_gacha])\n",
    "            \n",
    "            \n",
    "            df_card_fortune_store = df_shoptrade[df_shoptrade['shoptrade_id'].isin(card_fortune_store_id_list)]\n",
    "            card_fortune_store_id = pd.concat([card_fortune_store_id,df_card_fortune_store])\n",
    "            \n",
    "            \n",
    "            df_male_outfit = df_shoptrade[df_shoptrade['shoptrade_id'].isin(male_outfit_fortune_store_id_list)]\n",
    "            male_outfit_fortune_store_id = pd.concat([male_outfit_fortune_store_id,df_male_outfit])\n",
    "            \n",
    "            \n",
    "            df_female_outfit = df_shoptrade[df_shoptrade['shoptrade_id'].isin(female_outfit_fortune_store_id_list)]\n",
    "            female_outfit_fortune_store_id = pd.concat([female_outfit_fortune_store_id,df_female_outfit])\n"
   ]
  },
  {
   "cell_type": "code",
   "execution_count": 21,
   "id": "b8f79469",
   "metadata": {},
   "outputs": [],
   "source": [
    "shoptrade_id_f = shoptrade_id.groupby(['userid','roleid',])['shoptrade_id'].nunique().reset_index().rename(columns = {'shoptrade_id' : \"item_buy_times\"})\n",
    "shoptrade_id_f = shoptrade_id_f[shoptrade_id_f['userid'].isin(login_days_final['userid'])]\n",
    "shoptrade_id_f.to_csv(\"../output/g1jp_user_shoptrade_item_buy_times.csv\", index = False)\n",
    "\n",
    "gacha_id_f = gacha_id.groupby(['userid','roleid',])['shoptrade_id'].nunique().reset_index().rename(columns = {'shoptrade_id' : \"gacha_buy_times\"})\n",
    "gacha_id_f = gacha_id_f[gacha_id_f['userid'].isin(login_days_final['userid'])]\n",
    "gacha_id_f.to_csv(\"../output/g1jp_user_gacha_buy_times.csv\", index = False)\n",
    "\n",
    "card_fortune_store_id_f = card_fortune_store_id.groupby(['userid','roleid',])['shoptrade_id'].nunique().reset_index().rename(columns = {'shoptrade_id' : \"card_fortune_store_buy_times\"})\n",
    "card_fortune_store_id_f = card_fortune_store_id_f[card_fortune_store_id_f['userid'].isin(login_days_final['userid'])]\n",
    "card_fortune_store_id_f.to_csv(\"../output/g1jp_user_card_fortune_store_buy_times.csv\", index = False)\n",
    "\n",
    "male_outfit_fortune_store_id_f = male_outfit_fortune_store_id.groupby(['userid','roleid',])['shoptrade_id'].nunique().reset_index().rename(columns = {'shoptrade_id' : \"male_outfit_fortune_store_buy_times\"})\n",
    "male_outfit_fortune_store_id_f = male_outfit_fortune_store_id_f[male_outfit_fortune_store_id_f['userid'].isin(login_days_final['userid'])]\n",
    "male_outfit_fortune_store_id_f.to_csv(\"../output/g1jp_user_male_outfit_fortune_store_buy_times.csv\", index = False)\n",
    "\n",
    "female_outfit_fortune_store_id_f = female_outfit_fortune_store_id.groupby(['userid','roleid',])['shoptrade_id'].nunique().reset_index().rename(columns = {'shoptrade_id' : \"female_outfit_fortune_buy_times\"})\n",
    "female_outfit_fortune_store_id_f = female_outfit_fortune_store_id_f[female_outfit_fortune_store_id_f['userid'].isin(login_days_final['userid'])]\n",
    "female_outfit_fortune_store_id_f.to_csv(\"../output/g1jp_user_female_outfit_fortune_store_buy_times.csv\", index = False)"
   ]
  },
  {
   "cell_type": "code",
   "execution_count": 22,
   "id": "252469d1",
   "metadata": {},
   "outputs": [],
   "source": [
    "#print(shoptrade_id_f)"
   ]
  },
  {
   "cell_type": "code",
   "execution_count": 23,
   "id": "ce6b4e07",
   "metadata": {},
   "outputs": [],
   "source": [
    "#calculate the frequency of buying shoptrade items. Treat the date with buying as 1, other as 0\n",
    "#In other words, compute the number of dates of processed shoptrade data\n",
    "shoptrade_id_date = shoptrade_id.copy()\n",
    "shoptrade_id_date['date'] = pd.to_datetime(shoptrade_id_date['datetime']).dt.date\n",
    "\n",
    "shoptrade_id_date = pd.DataFrame(shoptrade_id_date.groupby(['userid','roleid'])['date'].nunique()).reset_index().rename(columns = {'date' : 'buy_times'})\n",
    "\n",
    "days_from_OB = (date.today() - date(2022,7,19)).days\n",
    "\n",
    "shoptrade_id_date['frequency'] = pd.DataFrame(shoptrade_id_date.groupby(['userid','roleid'])['buy_times']\n",
    "                                              .apply(lambda buy_times : round(days_from_OB / buy_times)))\n",
    "\n",
    "shoptrade_id_date = shoptrade_id_date[shoptrade_id_date['userid'].isin(login_days_final['userid'])]\n",
    "#shoptrade_id_date = shoptrade_id_date.reset_index()\n",
    "#shoptrade_id_date\n",
    "shoptrade_id_date.to_csv(\"../output/g1jp_user_shoptrade_item_buy_frequency.csv\", index = False)\n"
   ]
  },
  {
   "cell_type": "code",
   "execution_count": 24,
   "id": "9ff2424b",
   "metadata": {},
   "outputs": [],
   "source": [
    "# paid_user_target = cumulative_payment[(cumulative_payment['cumulative_payment'] > 0) & (cumulative_payment['cumulative_payment'] < 30000)]\n",
    "# paid_user_target"
   ]
  },
  {
   "cell_type": "code",
   "execution_count": 25,
   "id": "8407af21",
   "metadata": {},
   "outputs": [],
   "source": [
    "#login_days_final[login_days_final['userid'].isin(paid_user_target['userid'])]"
   ]
  }
 ],
 "metadata": {
  "kernelspec": {
   "display_name": "Python 3 (ipykernel)",
   "language": "python",
   "name": "python3"
  },
  "language_info": {
   "codemirror_mode": {
    "name": "ipython",
    "version": 3
   },
   "file_extension": ".py",
   "mimetype": "text/x-python",
   "name": "python",
   "nbconvert_exporter": "python",
   "pygments_lexer": "ipython3",
   "version": "3.10.5"
  }
 },
 "nbformat": 4,
 "nbformat_minor": 5
}
